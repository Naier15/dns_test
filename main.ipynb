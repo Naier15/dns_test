{
 "cells": [
  {
   "cell_type": "code",
   "execution_count": 1,
   "id": "cb8797db",
   "metadata": {},
   "outputs": [
    {
     "name": "stdout",
     "output_type": "stream",
     "text": [
      "Requirement already satisfied: SQLAlchemy in c:\\users\\user\\appdata\\local\\programs\\python\\python39\\lib\\site-packages (1.4.39)\n",
      "Requirement already satisfied: greenlet!=0.4.17 in c:\\users\\user\\appdata\\local\\programs\\python\\python39\\lib\\site-packages (from SQLAlchemy) (1.1.2)\n",
      "Note: you may need to restart the kernel to use updated packages.\n",
      "Requirement already satisfied: psycopg2 in c:\\users\\user\\appdata\\local\\programs\\python\\python39\\lib\\site-packages (2.9.3)\n",
      "Note: you may need to restart the kernel to use updated packages.\n"
     ]
    }
   ],
   "source": [
    "%pip install SQLAlchemy\n",
    "%pip install psycopg2"
   ]
  },
  {
   "cell_type": "code",
   "execution_count": 2,
   "id": "a20d763a",
   "metadata": {
    "scrolled": true
   },
   "outputs": [],
   "source": [
    "import pandas as pd\n",
    "from conn import Conn\n",
    "from clock import Clock\n",
    "import queries as query\n",
    "from sqlalchemy import create_engine\n",
    "import matplotlib.pyplot as plt\n",
    "from config import user, password, host, port, database, \\\n",
    "                    rename_branches, rename_cities, rename_products, rename_sales"
   ]
  },
  {
   "cell_type": "code",
   "execution_count": 3,
   "id": "3228ccf6",
   "metadata": {},
   "outputs": [],
   "source": [
    "plt.rcParams['figure.figsize'] = [14, 6]"
   ]
  },
  {
   "cell_type": "markdown",
   "id": "d654c67a",
   "metadata": {},
   "source": [
    "# Аналитическая часть"
   ]
  },
  {
   "cell_type": "markdown",
   "id": "868e4277",
   "metadata": {},
   "source": [
    "\n",
    "# 1. Требуется рассчитать и вывести название и количество в порядке убывания"
   ]
  },
  {
   "cell_type": "code",
   "execution_count": 11,
   "id": "a7041448",
   "metadata": {},
   "outputs": [],
   "source": [
    "path_to_tables = './test_data/'\n",
    "extension = '.csv'\n",
    "\n",
    "branches = 'branches'\n",
    "cities = 'cities'\n",
    "products = 'products'\n",
    "sales = 'sales'"
   ]
  },
  {
   "cell_type": "code",
   "execution_count": 12,
   "id": "2f4e4adc",
   "metadata": {},
   "outputs": [],
   "source": [
    "db = create_engine(f'postgresql+psycopg2://{user}:{password}@{host}:{port}/{database}')"
   ]
  },
  {
   "cell_type": "code",
   "execution_count": 13,
   "id": "3ef0fa6d",
   "metadata": {},
   "outputs": [
    {
     "name": "stdout",
     "output_type": "stream",
     "text": [
      "[ERROR] Exception while Conn is executing\n",
      " database \"postgres\" already exists\n",
      "\n",
      "[INFO] Conn executed successfully\n",
      "[INFO] Disconnected with PostgreSQL\n",
      "[INFO] Added database into PostgreSQL\n",
      "[INFO] Connected with PostgreSQL\n",
      "[INFO] Conn executed successfully\n",
      "[INFO] Conn executed successfully\n",
      "[INFO] Conn executed successfully\n",
      "[INFO] Conn executed successfully\n",
      "[TIME] 0.0853121280670166\n"
     ]
    }
   ],
   "source": [
    "clock = Clock()\n",
    "\n",
    "Conn.instanciate() # Create database in psql\n",
    "Conn.connect()\n",
    "Conn.execute_many_commands(query.create_tables_commands) # Create tables in psql\n",
    "\n",
    "\n",
    "clock.stop()"
   ]
  },
  {
   "cell_type": "code",
   "execution_count": 14,
   "id": "cdad2728",
   "metadata": {},
   "outputs": [
    {
     "name": "stdout",
     "output_type": "stream",
     "text": [
      "[INFO] Conn executed successfully\n",
      "[INFO] Conn executed successfully\n",
      "[INFO] Conn executed successfully\n",
      "[INFO] Disconnected with PostgreSQL\n"
     ]
    }
   ],
   "source": [
    "clock = Clock()\n",
    "\n",
    "tables = [cities, products, branches, sales]\n",
    "rename_headers = [rename_cities, rename_products, rename_branches, rename_sales]\n",
    "\n",
    "\n",
    "for table, renames in zip(tables, rename_headers):\n",
    "    csv_file = pd.read_csv(f'{path_to_tables}t_{table}{extension}')\n",
    "    csv_file.rename(columns=renames, inplace=True)\n",
    "    csv_file.to_sql(name=table, con=db, index=False, if_exists='append')\n",
    "\n",
    "\n",
    "Conn.execute_many_commands(query.set_indexes) #Добавление индексов\n",
    "\n",
    "Conn.disconnect()"
   ]
  },
  {
   "cell_type": "code",
   "execution_count": 15,
   "id": "1c7ba788",
   "metadata": {},
   "outputs": [
    {
     "name": "stdout",
     "output_type": "stream",
     "text": [
      "[INFO] Connected with PostgreSQL\n",
      "[INFO] Conn selected successfully\n",
      "+ -- Десять первых магазинов по количеству продаж -- +\n",
      "                       Магазин  Кол-во продаж\n",
      "1            Новосиб Ватутина           87218\n",
      "2      Ростов Красноармейская           68683\n",
      "3           Омск  на Гагарина           66515\n",
      "4   яВладивосток  Луговая МБТ           62473\n",
      "5    яКомсомольск Аллея Труда           59503\n",
      "6   яН.Новгород Пл. Революции           59166\n",
      "7            Омск на пр. Мира           56188\n",
      "8    яСаратов Университетская           55963\n",
      "9                 ЕКБ Вайнера           55570\n",
      "10           Ростов Вавилония           53949\n",
      "+ -------------------------------------------------- +\n",
      "\n",
      "[INFO] Disconnected with PostgreSQL\n",
      "[TIME] 0.8313767910003662\n"
     ]
    }
   ],
   "source": [
    "clock = Clock()\n",
    "Conn.connect()\n",
    "\n",
    "top_10_shops = Conn.select(query.top_10_shops)\n",
    "top_10_shops = pd.DataFrame(top_10_shops, columns=['Магазин', 'Кол-во продаж'])\n",
    "top_10_shops.index += 1\n",
    "\n",
    "print('+ -- Десять первых магазинов по количеству продаж -- +')\n",
    "print(top_10_shops)\n",
    "print('+', '-'*50, '+\\n')\n",
    "\n",
    "Conn.disconnect()\n",
    "clock.stop()\n"
   ]
  },
  {
   "cell_type": "code",
   "execution_count": 16,
   "id": "f6a81087",
   "metadata": {},
   "outputs": [
    {
     "name": "stdout",
     "output_type": "stream",
     "text": [
      "[INFO] Connected with PostgreSQL\n",
      "[INFO] Conn selected successfully\n",
      "+ -- Десять первых складов по количеству продаж -- +\n",
      "                Склад  Кол-во продаж\n",
      "1     Новосиб Склад           366395\n",
      "2       Самара Склад          222066\n",
      "3   ЕКБ старый cклад          213456\n",
      "4       Казань Склад          184080\n",
      "5          Хаб Склад          149743\n",
      "6          Мск Склад          140716\n",
      "7      Иркутск склад          127398\n",
      "8       Ростов Склад          100343\n",
      "9        Тула Склад            90408\n",
      "10         Кра Склад           49296\n",
      "+ -------------------------------------------------- +\n",
      "\n",
      "[INFO] Disconnected with PostgreSQL\n",
      "[TIME] 0.49399852752685547\n"
     ]
    }
   ],
   "source": [
    "clock = Clock()\n",
    "Conn.connect()\n",
    "\n",
    "top_10_storages = Conn.select(query.top_10_storages)\n",
    "top_10_storages = pd.DataFrame(top_10_storages, columns=['Склад', 'Кол-во продаж'])\n",
    "top_10_storages.index += 1\n",
    "\n",
    "print('+ -- Десять первых складов по количеству продаж -- +')\n",
    "print(top_10_storages)\n",
    "print('+', '-'*50, '+\\n')\n",
    "\n",
    "Conn.disconnect()\n",
    "clock.stop()"
   ]
  },
  {
   "cell_type": "code",
   "execution_count": 17,
   "id": "f6a81087",
   "metadata": {},
   "outputs": [
    {
     "name": "stdout",
     "output_type": "stream",
     "text": [
      "[INFO] Connected with PostgreSQL\n",
      "[INFO] Conn selected successfully\n",
      "+ -- Десять самых продаваемых товаров по складам -- +\n",
      "                                                Товар  Кол-во продаж\n",
      "1                             Доставка внутри региона        1035814\n",
      "2                             Обработка грузов на РРЦ         172081\n",
      "3                              Доставка от поставщика          43336\n",
      "4       Доставка грузов АВТО Новосибирск  Новосибирск          17572\n",
      "5           Доставка грузов АВТО Хабаровск  Хабаровск          14873\n",
      "6                 Доставка грузов АВТО Самара  Самара          12168\n",
      "7              Доставка грузов АВТО Казань - > Казань          11710\n",
      "8   Доставка грузов АВТО Екатеринбург - > Екатерин...          11631\n",
      "9                    Доставка грузов АВТО Самара  Уфа          10833\n",
      "10                           Доставка между регионами          10448\n",
      "+ -------------------------------------------------- +\n",
      "\n",
      "[INFO] Disconnected with PostgreSQL\n",
      "[TIME] 0.49399781227111816\n"
     ]
    }
   ],
   "source": [
    "clock = Clock()\n",
    "Conn.connect()\n",
    "\n",
    "top_10_products_among_storages = Conn.select(query.top_10_products_among_storages)\n",
    "top_10_products_among_storages = pd.DataFrame(top_10_products_among_storages, columns=['Товар', 'Кол-во продаж'])\n",
    "top_10_products_among_storages.index += 1\n",
    "\n",
    "print('+ -- Десять самых продаваемых товаров по складам -- +')\n",
    "print(top_10_products_among_storages)\n",
    "print('+', '-'*50, '+\\n')\n",
    "\n",
    "Conn.disconnect()\n",
    "clock.stop()"
   ]
  },
  {
   "cell_type": "code",
   "execution_count": 18,
   "id": "f6a81087",
   "metadata": {},
   "outputs": [
    {
     "name": "stdout",
     "output_type": "stream",
     "text": [
      "[INFO] Connected with PostgreSQL\n",
      "[INFO] Conn selected successfully\n",
      "+ -- Десять самых продаваемых товаров по магазинам -- +\n",
      "                                                Товар  Кол-во продаж\n",
      "1   Маршрутизатор D-Link DIR-300 NRU/NRA 4x10/100B...          39341\n",
      "2                   Память Trans Flash (microSD) 2 Gb          30659\n",
      "3                 Память Trans Flash (microSDHC) 4 Gb          26690\n",
      "4   Лицензия Microsoft Windows 7 Home Basic 32-bit...          23798\n",
      "5           Кабель USB2.0 A (вилка) - B (вилка), 1.8m          23024\n",
      "6   Маршрутизатор D-Link DIR-615/А/М1А 4x10/100Bas...          19308\n",
      "7           Разъем Noname [RJ45, 8P8C, кат. 5e, 1 шт]          18942\n",
      "8   ПО \"Kaspersky Internet Security\" версия 2012, ...          14531\n",
      "9   Память Kingston (microSDHC) 4 Gb class 2/4 SDC...          13161\n",
      "10  Веб-камера Logitech HD Webcam C270 1280x720 Mi...          12715\n",
      "+ -------------------------------------------------- +\n",
      "\n",
      "[INFO] Disconnected with PostgreSQL\n",
      "[TIME] 0.8279991149902344\n"
     ]
    }
   ],
   "source": [
    "clock = Clock()\n",
    "Conn.connect()\n",
    "\n",
    "top_10_products_among_shops = Conn.select(query.top_10_products_among_shops)\n",
    "top_10_products_among_shops = pd.DataFrame(top_10_products_among_shops, columns=['Товар', 'Кол-во продаж'])\n",
    "top_10_products_among_shops.index += 1\n",
    "\n",
    "print('+ -- Десять самых продаваемых товаров по магазинам -- +')\n",
    "print(top_10_products_among_shops)\n",
    "print('+', '-'*50, '+\\n')\n",
    "\n",
    "Conn.disconnect()\n",
    "clock.stop()"
   ]
  },
  {
   "cell_type": "code",
   "execution_count": 19,
   "id": "f6a81087",
   "metadata": {},
   "outputs": [
    {
     "name": "stdout",
     "output_type": "stream",
     "text": [
      "[INFO] Connected with PostgreSQL\n",
      "[INFO] Conn selected successfully\n",
      "+ -- Десять городов, в которых больше всего продавалось товаров -- +\n",
      "              Город  Кол-во продаж\n",
      "1       Новосибирск         604339\n",
      "2      Екатеринбург         419835\n",
      "3            Казань         398584\n",
      "4    Ростов-на-Дону         391134\n",
      "5            Самара         323775\n",
      "6              Омск         292891\n",
      "7         Хабаровск         278054\n",
      "8           Иркутск         271139\n",
      "9   Нижний Новгород         241233\n",
      "10          Барнаул         230575\n",
      "+ -------------------------------------------------- +\n",
      "\n",
      "[INFO] Disconnected with PostgreSQL\n",
      "[TIME] 1.1329994201660156\n"
     ]
    }
   ],
   "source": [
    "clock = Clock()\n",
    "Conn.connect()\n",
    "\n",
    "top_10_most_selling_cities = Conn.select(query.top_10_most_selling_cities)\n",
    "top_10_most_selling_cities = pd.DataFrame(top_10_most_selling_cities, columns=['Город', 'Кол-во продаж'])\n",
    "top_10_most_selling_cities.index += 1\n",
    "\n",
    "print('+ -- Десять городов, в которых больше всего продавалось товаров -- +')\n",
    "print(top_10_most_selling_cities)\n",
    "print('+', '-'*50, '+\\n')\n",
    "\n",
    "Conn.disconnect()\n",
    "clock.stop()"
   ]
  },
  {
   "cell_type": "code",
   "execution_count": null,
   "id": "55fdbf62",
   "metadata": {},
   "outputs": [],
   "source": []
  },
  {
   "cell_type": "markdown",
   "id": "e9c46cdb",
   "metadata": {},
   "source": [
    "# 2. Требуется рассчитать и вывести в какие часы и в какой день недели происходит максимальное количество продаж."
   ]
  },
  {
   "cell_type": "code",
   "execution_count": 20,
   "id": "482e5ea2",
   "metadata": {},
   "outputs": [
    {
     "name": "stdout",
     "output_type": "stream",
     "text": [
      "[INFO] Connected with PostgreSQL\n",
      "[INFO] Disconnected with PostgreSQL\n",
      "[TIME] 30.793089151382446\n"
     ]
    }
   ],
   "source": [
    "clock = Clock()\n",
    "Conn.connect()\n",
    "\n",
    "sql = 'SELECT * FROM sales;'\n",
    "df = pd.read_sql(sql, con=Conn.connection)\n",
    "\n",
    "Conn.disconnect()\n",
    "clock.stop()"
   ]
  },
  {
   "cell_type": "code",
   "execution_count": 21,
   "id": "82b98396",
   "metadata": {},
   "outputs": [
    {
     "name": "stdout",
     "output_type": "stream",
     "text": [
      "[TIME] 0.40000104904174805\n"
     ]
    }
   ],
   "source": [
    "clock = Clock()\n",
    "\n",
    "df['hour'] = df['datetime'].dt.hour\n",
    "df['weekday'] = df['datetime'].dt.dayofweek + 1 #to format weekday from 1 to 7\n",
    "\n",
    "clock.stop()"
   ]
  },
  {
   "cell_type": "code",
   "execution_count": 22,
   "id": "35689303",
   "metadata": {},
   "outputs": [
    {
     "name": "stdout",
     "output_type": "stream",
     "text": [
      "15\n",
      "[TIME] 3.6779162883758545\n"
     ]
    }
   ],
   "source": [
    "clock = Clock()\n",
    "\n",
    "sales_by_hour = df.groupby('hour').describe().quantity['count']\n",
    "# в sales_by_hour теперь хранятся количества продаж, где индекс - это час продажи\n",
    "\n",
    "print(sales_by_hour.idxmax())\n",
    "\n",
    "clock.stop()"
   ]
  },
  {
   "cell_type": "markdown",
   "id": "e6ca2a5f",
   "metadata": {},
   "source": [
    "# С 15:00 до 16:00 делается больше всего продаж"
   ]
  },
  {
   "cell_type": "code",
   "execution_count": 23,
   "id": "6813cba6",
   "metadata": {},
   "outputs": [
    {
     "data": {
      "text/plain": [
       "Text(0, 0.5, 'Количество продаж')"
      ]
     },
     "execution_count": 23,
     "metadata": {},
     "output_type": "execute_result"
    },
    {
     "data": {
      "image/png": "[encoded data removed]",
      "text/plain": [
       "<Figure size 1008x432 with 1 Axes>"
      ]
     },
     "metadata": {
      "needs_background": "light"
     },
     "output_type": "display_data"
    }
   ],
   "source": [
    "hist = df['hour'].plot(kind='hist', \n",
    "                title='Распределение продаж по часам', \n",
    "                bins=24, \n",
    "                xticks=range(24),\n",
    "                rwidth=0.7)\n",
    "hist.set_xlabel('Часы')\n",
    "hist.set_ylabel('Количество продаж')"
   ]
  },
  {
   "cell_type": "code",
   "execution_count": null,
   "id": "117dbf9b",
   "metadata": {},
   "outputs": [],
   "source": []
  },
  {
   "cell_type": "code",
   "execution_count": 24,
   "id": "913a70cb",
   "metadata": {},
   "outputs": [
    {
     "name": "stdout",
     "output_type": "stream",
     "text": [
      "6\n",
      "[TIME] 3.280712842941284\n"
     ]
    }
   ],
   "source": [
    "clock = Clock()\n",
    "\n",
    "sales_by_weekday = df.groupby('weekday').describe().quantity['count']\n",
    "# в sales_by_weekday теперь хранятся количества продаж, где индекс - это день недели от 1 до 7 (понед. - воскр.)\n",
    "\n",
    "print(sales_by_weekday.idxmax())\n",
    "\n",
    "clock.stop()"
   ]
  },
  {
   "cell_type": "markdown",
   "id": "f285e981",
   "metadata": {},
   "source": [
    "# В субботу делается больше всего продаж"
   ]
  },
  {
   "cell_type": "code",
   "execution_count": 25,
   "id": "28c58b0b",
   "metadata": {},
   "outputs": [
    {
     "data": {
      "text/plain": [
       "Text(0, 0.5, 'Количество продаж')"
      ]
     },
     "execution_count": 25,
     "metadata": {},
     "output_type": "execute_result"
    },
    {
     "data": {
      "image/png": "[encoded data removed]",
      "text/plain": [
       "<Figure size 1008x432 with 1 Axes>"
      ]
     },
     "metadata": {
      "needs_background": "light"
     },
     "output_type": "display_data"
    }
   ],
   "source": [
    "hist2 = df['weekday'].plot(kind='hist', \n",
    "                           bins=7, \n",
    "                           title='Распределение продаж по дням недели', \n",
    "                           xticks=range(1, 8),\n",
    "                           rwidth=0.7)\n",
    "hist2.set_xlabel('День недели')\n",
    "hist2.set_ylabel('Количество продаж')"
   ]
  },
  {
   "cell_type": "code",
   "execution_count": null,
   "id": "569a556a",
   "metadata": {},
   "outputs": [],
   "source": []
  },
  {
   "cell_type": "markdown",
   "id": "f8334b30",
   "metadata": {},
   "source": [
    "# Расчетная часть"
   ]
  },
  {
   "cell_type": "code",
   "execution_count": 26,
   "id": "43583b6c",
   "metadata": {},
   "outputs": [
    {
     "name": "stdout",
     "output_type": "stream",
     "text": [
      "[INFO] Connected with PostgreSQL\n",
      "[INFO] Disconnected with PostgreSQL\n",
      "[TIME] 1.5622305870056152\n"
     ]
    }
   ],
   "source": [
    "clock = Clock()\n",
    "Conn.connect()\n",
    "\n",
    "sql = query.sales_of_products\n",
    "df = pd.read_sql(sql, con=Conn.connection)\n",
    "\n",
    "Conn.disconnect()\n",
    "clock.stop()"
   ]
  },
  {
   "cell_type": "code",
   "execution_count": 27,
   "id": "b3c69ee7",
   "metadata": {},
   "outputs": [
    {
     "name": "stdout",
     "output_type": "stream",
     "text": [
      "                            ref_product              category\n",
      "0  000c9ee5-d56c-11de-87fb-00151716f9f5  Наименее продаваемый\n",
      "1  000f6e23-dfbf-11de-9339-00151716f9f5    Средне продаваемый\n",
      "2  0016f7a3-d839-11e0-b7e0-001517c526f0    Средне продаваемый\n",
      "3  00337cb5-ed5d-11e0-b8cc-001517c526f0  Наименее продаваемый\n",
      "4  00390b11-58fe-11e0-bf69-001517c526f0    Средне продаваемый\n",
      "[TIME] 0.0220491886138916\n"
     ]
    }
   ],
   "source": [
    "clock = Clock()\n",
    "\n",
    "categories = ['Наименее продаваемый', 'Средне продаваемый', 'Наиболее продаваемый']\n",
    "\n",
    "df['category'] = pd.qcut(df['count'],\n",
    "                              q=[0, .3, .9, 1],\n",
    "                              labels=categories)\n",
    "df.drop('count', axis=1, inplace=True)\n",
    "print(df.head())\n",
    "\n",
    "clock.stop()"
   ]
  },
  {
   "cell_type": "code",
   "execution_count": 28,
   "id": "badd62e5",
   "metadata": {},
   "outputs": [
    {
     "name": "stdout",
     "output_type": "stream",
     "text": [
      "[TIME] 0.04199719429016113\n"
     ]
    }
   ],
   "source": [
    "clock = Clock()\n",
    "\n",
    "#Создание новой csv таблицы\n",
    "df.to_csv(f'{path_to_tables}products_with_category{extension}', \n",
    "        header=['Номенклатура', 'КлассТовара'],\n",
    "        sep=',',\n",
    "        encoding='utf-8')\n",
    "\n",
    "clock.stop()"
   ]
  },
  {
   "cell_type": "code",
   "execution_count": 29,
   "id": "3434ad00",
   "metadata": {},
   "outputs": [
    {
     "name": "stdout",
     "output_type": "stream",
     "text": [
      "[INFO] Connected with PostgreSQL\n",
      "[INFO] Disconnected with PostgreSQL\n",
      "[TIME] 0.20100045204162598\n"
     ]
    }
   ],
   "source": [
    "clock = Clock()\n",
    "Conn.connect()\n",
    "\n",
    "products_with_category = 'products_with_category'\n",
    "df.to_sql(name=products_with_category, con=db, index=False, if_exists='append')\n",
    "\n",
    "Conn.disconnect()\n",
    "clock.stop()"
   ]
  }
 ],
 "metadata": {
  "kernelspec": {
   "display_name": "Python 3",
   "language": "python",
   "name": "python3"
  },
  "language_info": {
   "codemirror_mode": {
    "name": "ipython",
    "version": 3
   },
   "file_extension": ".py",
   "mimetype": "text/x-python",
   "name": "python",
   "nbconvert_exporter": "python",
   "pygments_lexer": "ipython3",
   "version": "3.9.2"
  },
  "vscode": {
   "interpreter": {
    "hash": "cf92aa13fedf815d5c8dd192b8d835913fde3e8bc926b2a0ad6cc74ef2ba3ca2"
   }
  }
 },
 "nbformat": 4,
 "nbformat_minor": 5
}
